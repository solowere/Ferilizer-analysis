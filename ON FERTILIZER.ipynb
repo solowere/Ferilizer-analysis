{
  "metadata": {
    "kernelspec": {
      "name": "python",
      "display_name": "Python (Pyodide)",
      "language": "python"
    },
    "language_info": {
      "codemirror_mode": {
        "name": "python",
        "version": 3
      },
      "file_extension": ".py",
      "mimetype": "text/x-python",
      "name": "python",
      "nbconvert_exporter": "python",
      "pygments_lexer": "ipython3",
      "version": "3.8"
    }
  },
  "nbformat_minor": 4,
  "nbformat": 4,
  "cells": [
    {
      "cell_type": "code",
      "source": "import numpy as np\nimport pandas as pd\nfrom pandas import Series,DataFrame\n\n#math\nimport math\n\n#plot\nimport matplotlib as plt\n#import seaborn as sns\n\n#sns.set_style('whitegrid')\n%matplotlib inline",
      "metadata": {
        "trusted": true
      },
      "execution_count": 4,
      "outputs": []
    },
    {
      "cell_type": "code",
      "source": "##Reading data\nfert=pd.read_excel(\\FERTILIZER FULL DATA.xlsx',sheet_name=' Parameters compliance')\ncomp=pd.read_excel(\\FERTILIZER FULL DATA.xlsx',sheet_name= 'compliance full table')",
      "metadata": {
        "trusted": true
      },
      "execution_count": 6,
      "outputs": []
    },
    {
      "cell_type": "code",
      "source": "fert.random()",
      "metadata": {},
      "execution_count": 7,
      "outputs": [
        {
          "execution_count": 7,
          "output_type": "execute_result",
          "data": {
            "text/html": [
              "<div>\n",
              "<style scoped>\n",
              "    .dataframe tbody tr th:only-of-type {\n",
              "        vertical-align: middle;\n",
              "    }\n",
              "\n",
              "    .dataframe tbody tr th {\n",
              "        vertical-align: top;\n",
              "    }\n",
              "\n",
              "    .dataframe thead th {\n",
              "        text-align: right;\n",
              "    }\n",
              "</style>\n",
              "<table border=\"1\" class=\"dataframe\">\n",
              "  <thead>\n",
              "    <tr style=\"text-align: right;\">\n",
              "      <th></th>\n",
              "      <th>LAB CODE</th>\n",
              "      <th>Date Received</th>\n",
              "      <th>CLIENT ID</th>\n",
              "      <th>Commodity</th>\n",
              "      <th>REQUIREMENT</th>\n",
              "      <th>SOURCE</th>\n",
              "      <th>REGION</th>\n",
              "      <th>COUNTY</th>\n",
              "      <th>Fertilizer Blend</th>\n",
              "      <th>PARAMETER</th>\n",
              "      <th>RESULT</th>\n",
              "      <th>LIMITS</th>\n",
              "      <th>DECISION</th>\n",
              "    </tr>\n",
              "  </thead>\n",
              "  <tbody>\n",
              "    <tr>\n",
              "      <th>0</th>\n",
              "      <td>QF200013</td>\n",
              "      <td>2020-02-10</td>\n",
              "      <td>Licon Agrovet</td>\n",
              "      <td>NPK</td>\n",
              "      <td>Others</td>\n",
              "      <td>NFMP</td>\n",
              "      <td>KISUMU,SIAYA AND BUSIA</td>\n",
              "      <td>BUSIA</td>\n",
              "      <td>NPK</td>\n",
              "      <td>N</td>\n",
              "      <td>17.41</td>\n",
              "      <td>18.0</td>\n",
              "      <td>CONFORMS</td>\n",
              "    </tr>\n",
              "    <tr>\n",
              "      <th>1</th>\n",
              "      <td>QF200013</td>\n",
              "      <td>2020-02-10</td>\n",
              "      <td>Licon Agrovet</td>\n",
              "      <td>NPK</td>\n",
              "      <td>Others</td>\n",
              "      <td>NFMP</td>\n",
              "      <td>KISUMU,SIAYA AND BUSIA</td>\n",
              "      <td>BUSIA</td>\n",
              "      <td>NPK</td>\n",
              "      <td>P</td>\n",
              "      <td>18.61</td>\n",
              "      <td>20.0</td>\n",
              "      <td>CONFORMS</td>\n",
              "    </tr>\n",
              "    <tr>\n",
              "      <th>2</th>\n",
              "      <td>QF200013</td>\n",
              "      <td>2020-02-10</td>\n",
              "      <td>Licon Agrovet</td>\n",
              "      <td>NPK</td>\n",
              "      <td>Others</td>\n",
              "      <td>NFMP</td>\n",
              "      <td>KISUMU,SIAYA AND BUSIA</td>\n",
              "      <td>BUSIA</td>\n",
              "      <td>NPK</td>\n",
              "      <td>K</td>\n",
              "      <td>19.22</td>\n",
              "      <td>21.0</td>\n",
              "      <td>CONFORMS</td>\n",
              "    </tr>\n",
              "    <tr>\n",
              "      <th>3</th>\n",
              "      <td>QF200014</td>\n",
              "      <td>2020-02-10</td>\n",
              "      <td>Licon Agrovet</td>\n",
              "      <td>NPK</td>\n",
              "      <td>Others</td>\n",
              "      <td>NFMP</td>\n",
              "      <td>KISUMU,SIAYA AND BUSIA</td>\n",
              "      <td>BUSIA</td>\n",
              "      <td>NPK</td>\n",
              "      <td>N</td>\n",
              "      <td>15.41</td>\n",
              "      <td>14.0</td>\n",
              "      <td>CONFORMS</td>\n",
              "    </tr>\n",
              "    <tr>\n",
              "      <th>4</th>\n",
              "      <td>QF200014</td>\n",
              "      <td>2020-02-10</td>\n",
              "      <td>Licon Agrovet</td>\n",
              "      <td>NPK</td>\n",
              "      <td>Others</td>\n",
              "      <td>NFMP</td>\n",
              "      <td>KISUMU,SIAYA AND BUSIA</td>\n",
              "      <td>BUSIA</td>\n",
              "      <td>NPK</td>\n",
              "      <td>P</td>\n",
              "      <td>10.61</td>\n",
              "      <td>11.0</td>\n",
              "      <td>CONFORMS</td>\n",
              "    </tr>\n",
              "  </tbody>\n",
              "</table>\n",
              "</div>"
            ],
            "text/plain": [
              "   LAB CODE Date Received      CLIENT ID Commodity REQUIREMENT SOURCE  \\\n",
              "0  QF200013    2020-02-10  Licon Agrovet       NPK      Others   NFMP   \n",
              "1  QF200013    2020-02-10  Licon Agrovet       NPK      Others   NFMP   \n",
              "2  QF200013    2020-02-10  Licon Agrovet       NPK      Others   NFMP   \n",
              "3  QF200014    2020-02-10  Licon Agrovet       NPK      Others   NFMP   \n",
              "4  QF200014    2020-02-10  Licon Agrovet       NPK      Others   NFMP   \n",
              "\n",
              "                   REGION COUNTY Fertilizer Blend PARAMETER  RESULT  LIMITS  \\\n",
              "0  KISUMU,SIAYA AND BUSIA  BUSIA              NPK         N   17.41    18.0   \n",
              "1  KISUMU,SIAYA AND BUSIA  BUSIA              NPK         P   18.61    20.0   \n",
              "2  KISUMU,SIAYA AND BUSIA  BUSIA              NPK         K   19.22    21.0   \n",
              "3  KISUMU,SIAYA AND BUSIA  BUSIA              NPK         N   15.41    14.0   \n",
              "4  KISUMU,SIAYA AND BUSIA  BUSIA              NPK         P   10.61    11.0   \n",
              "\n",
              "   DECISION  \n",
              "0  CONFORMS  \n",
              "1  CONFORMS  \n",
              "2  CONFORMS  \n",
              "3  CONFORMS  \n",
              "4  CONFORMS  "
            ]
          },
          "metadata": {}
        }
      ]
    },
    {
      "cell_type": "code",
      "source": "npk_fert=comp[comp['Commodity']=='NPK']\nnpk_fert.head()",
      "metadata": {},
      "execution_count": 9,
      "outputs": [
        {
          "execution_count": 9,
          "output_type": "execute_result",
          "data": {
            "text/html": [
              "<div>\n",
              "<style scoped>\n",
              "    .dataframe tbody tr th:only-of-type {\n",
              "        vertical-align: middle;\n",
              "    }\n",
              "\n",
              "    .dataframe tbody tr th {\n",
              "        vertical-align: top;\n",
              "    }\n",
              "\n",
              "    .dataframe thead th {\n",
              "        text-align: right;\n",
              "    }\n",
              "</style>\n",
              "<table border=\"1\" class=\"dataframe\">\n",
              "  <thead>\n",
              "    <tr style=\"text-align: right;\">\n",
              "      <th></th>\n",
              "      <th>LAB CODE</th>\n",
              "      <th>year</th>\n",
              "      <th>Date Received</th>\n",
              "      <th>CLIENT ID</th>\n",
              "      <th>Commodity</th>\n",
              "      <th>REQUIREMENT</th>\n",
              "      <th>SOURCE</th>\n",
              "      <th>REGION</th>\n",
              "      <th>COUNTY</th>\n",
              "      <th>Total Of PARAMETER</th>\n",
              "      <th>CONFORMS</th>\n",
              "      <th>DOES NOT CONFORMS</th>\n",
              "      <th>Comliance</th>\n",
              "    </tr>\n",
              "  </thead>\n",
              "  <tbody>\n",
              "    <tr>\n",
              "      <th>0</th>\n",
              "      <td>QF200013</td>\n",
              "      <td>2020</td>\n",
              "      <td>2020-02-10</td>\n",
              "      <td>Licon Agrovet</td>\n",
              "      <td>NPK</td>\n",
              "      <td>Others</td>\n",
              "      <td>NFMP</td>\n",
              "      <td>KISUMU,SIAYA AND BUSIA</td>\n",
              "      <td>BUSIA</td>\n",
              "      <td>3</td>\n",
              "      <td>3.0</td>\n",
              "      <td>NaN</td>\n",
              "      <td>compliant</td>\n",
              "    </tr>\n",
              "    <tr>\n",
              "      <th>1</th>\n",
              "      <td>QF200014</td>\n",
              "      <td>2020</td>\n",
              "      <td>2020-02-10</td>\n",
              "      <td>Licon Agrovet</td>\n",
              "      <td>NPK</td>\n",
              "      <td>Others</td>\n",
              "      <td>NFMP</td>\n",
              "      <td>KISUMU,SIAYA AND BUSIA</td>\n",
              "      <td>BUSIA</td>\n",
              "      <td>3</td>\n",
              "      <td>3.0</td>\n",
              "      <td>NaN</td>\n",
              "      <td>compliant</td>\n",
              "    </tr>\n",
              "    <tr>\n",
              "      <th>2</th>\n",
              "      <td>QF200015</td>\n",
              "      <td>2020</td>\n",
              "      <td>2020-02-10</td>\n",
              "      <td>Licon Agrovet</td>\n",
              "      <td>NPK</td>\n",
              "      <td>Others</td>\n",
              "      <td>NFMP</td>\n",
              "      <td>KISUMU,SIAYA AND BUSIA</td>\n",
              "      <td>KISUMU</td>\n",
              "      <td>3</td>\n",
              "      <td>3.0</td>\n",
              "      <td>NaN</td>\n",
              "      <td>compliant</td>\n",
              "    </tr>\n",
              "    <tr>\n",
              "      <th>6</th>\n",
              "      <td>QF200019</td>\n",
              "      <td>2020</td>\n",
              "      <td>2020-02-10</td>\n",
              "      <td>Avepo Agrovet</td>\n",
              "      <td>NPK</td>\n",
              "      <td>17.17.17</td>\n",
              "      <td>NFMP</td>\n",
              "      <td>KISUMU,SIAYA AND BUSIA</td>\n",
              "      <td>SIAYA</td>\n",
              "      <td>3</td>\n",
              "      <td>3.0</td>\n",
              "      <td>NaN</td>\n",
              "      <td>compliant</td>\n",
              "    </tr>\n",
              "    <tr>\n",
              "      <th>8</th>\n",
              "      <td>QF200021</td>\n",
              "      <td>2020</td>\n",
              "      <td>2020-02-10</td>\n",
              "      <td>Green Agro</td>\n",
              "      <td>NPK</td>\n",
              "      <td>Others</td>\n",
              "      <td>NFMP</td>\n",
              "      <td>KISUMU,SIAYA AND BUSIA</td>\n",
              "      <td>BUSIA</td>\n",
              "      <td>3</td>\n",
              "      <td>3.0</td>\n",
              "      <td>NaN</td>\n",
              "      <td>compliant</td>\n",
              "    </tr>\n",
              "  </tbody>\n",
              "</table>\n",
              "</div>"
            ],
            "text/plain": [
              "   LAB CODE  year Date Received      CLIENT ID Commodity REQUIREMENT SOURCE  \\\n",
              "0  QF200013  2020    2020-02-10  Licon Agrovet       NPK      Others   NFMP   \n",
              "1  QF200014  2020    2020-02-10  Licon Agrovet       NPK      Others   NFMP   \n",
              "2  QF200015  2020    2020-02-10  Licon Agrovet       NPK      Others   NFMP   \n",
              "6  QF200019  2020    2020-02-10  Avepo Agrovet       NPK    17.17.17   NFMP   \n",
              "8  QF200021  2020    2020-02-10     Green Agro       NPK      Others   NFMP   \n",
              "\n",
              "                   REGION  COUNTY  Total Of PARAMETER  CONFORMS  \\\n",
              "0  KISUMU,SIAYA AND BUSIA   BUSIA                   3       3.0   \n",
              "1  KISUMU,SIAYA AND BUSIA   BUSIA                   3       3.0   \n",
              "2  KISUMU,SIAYA AND BUSIA  KISUMU                   3       3.0   \n",
              "6  KISUMU,SIAYA AND BUSIA   SIAYA                   3       3.0   \n",
              "8  KISUMU,SIAYA AND BUSIA   BUSIA                   3       3.0   \n",
              "\n",
              "   DOES NOT CONFORMS  Comliance  \n",
              "0                NaN  compliant  \n",
              "1                NaN  compliant  \n",
              "2                NaN  compliant  \n",
              "6                NaN  compliant  \n",
              "8                NaN  compliant  "
            ]
          },
          "metadata": {}
        }
      ]
    },
    {
      "cell_type": "code",
      "source": "npk_fert['REQUIREMENT'].nunique(dropna=False).count()",
      "metadata": {
        "trusted": true
      },
      "execution_count": 7,
      "outputs": []
    },
    {
      "cell_type": "code",
      "source": "sns.catplot(x='Commodity', hue='DECISION',data=fert, kind='count', palette=('coolwarm'))",
      "metadata": {},
      "execution_count": 23,
      "outputs": [
        {
          "execution_count": 23,
          "output_type": "execute_result",
          "data": {
            "text/plain": [
              "<seaborn.axisgrid.FacetGrid at 0x2123a5651c8>"
            ]
          },
          "metadata": {}
        },
        {
          "output_type": "display_data",
          "data": {
            "image/png": "[encoded data removed]",
            "text/plain": [
              "<Figure size 508.875x360 with 1 Axes>"
            ]
          },
          "metadata": {
            "needs_background": "light"
          }
        }
      ]
    },
    {
      "cell_type": "code",
      "source": "pd.crosstab(comp['Commodity'],comp['REGION']).sum()",
      "metadata": {},
      "execution_count": 22,
      "outputs": [
        {
          "execution_count": 22,
          "output_type": "execute_result",
          "data": {
            "text/plain": [
              "REGION\n",
              "BUSIA,KISUMU AND SIAYA COUNTIES                          15\n",
              "CENTRAL KENYA                                            58\n",
              "EMBU,MERU AND THARAKA NITHI COUNTIES                     15\n",
              "HOMA BAY,KISII,MIGORI AND NYAMIRA COUNTIES               15\n",
              "HOMA BAY,MIGORI,NYAMIRA AND KISII                        15\n",
              "HOMA BAY,MIGORI,NYAMIRA AND KISII COUNTIES               19\n",
              "KAJIADO,TAITA TAVETA REGION                              27\n",
              "KISUMU,SIAYA AND BUSIA                                   10\n",
              "KISUMU,SIAYA AND BUSIA COUNTIES                          20\n",
              "LAIKIPIA, BARINGO AND NAKURU                             21\n",
              "LAIKIPIA, BARINGO AND NAKURU COUNTIES                    36\n",
              "LOWER EASTERN                                            29\n",
              "MERU,THARAKA NITHI AND EMBU                              26\n",
              "MERU,THARAKA NITHI AND EMBU COUNTIES                     20\n",
              "MOMBASA,LAMU,KILIFI AND KWALE                            11\n",
              "MOMBASA,LAMU,KILIFI AND KWALE COUNTIES                   18\n",
              "NAROK,BOMET AND KERICHO COUNTIES                         36\n",
              "SOUTH RIFT                                               25\n",
              "TAITA TAVETA and KAJIADO                                 16\n",
              "UASIN GISHU,TRANS ZOIA,WEST POKOT AND ELGEYO MARAKWET    35\n",
              "VIHIGA,KAKAMEGA AND BUNGOMA                              49\n",
              "VIHIGA,KAKAMEGA AND BUNGOMA COUNTIES                     15\n",
              "dtype: int64"
            ]
          },
          "metadata": {}
        }
      ]
    },
    {
      "cell_type": "code",
      "source": "#compliance for npk fertilizers\nnpk1=fert[fert['Commodity']=='NPK']\nprint('total number of npk parameters tested =',len(npk1))",
      "metadata": {},
      "execution_count": 20,
      "outputs": [
        {
          "name": "stdout",
          "output_type": "stream",
          "text": "total number of npk parameters tested = 656\n"
        }
      ]
    },
    {
      "cell_type": "code",
      "source": "sns.catplot(x='PARAMETER', hue='DECISION',data=npk1, kind='count', palette=('coolwarm'),)",
      "metadata": {},
      "execution_count": 17,
      "outputs": [
        {
          "execution_count": 17,
          "output_type": "execute_result",
          "data": {
            "text/plain": [
              "<seaborn.axisgrid.FacetGrid at 0x2123896ce08>"
            ]
          },
          "metadata": {}
        },
        {
          "output_type": "display_data",
          "data": {
            "image/png": "[encoded data removed]",
            "text/plain": [
              "<Figure size 508.875x360 with 1 Axes>"
            ]
          },
          "metadata": {
            "needs_background": "light"
          }
        }
      ]
    },
    {
      "cell_type": "code",
      "source": "fert.columns",
      "metadata": {},
      "execution_count": 8,
      "outputs": [
        {
          "execution_count": 8,
          "output_type": "execute_result",
          "data": {
            "text/plain": [
              "Index(['LAB CODE', 'Date Received', 'CLIENT ID', 'Commodity', 'REQUIREMENT',\n",
              "       'SOURCE', 'REGION', 'COUNTY', 'Fertilizer Blend', 'PARAMETER', 'RESULT',\n",
              "       'LIMITS', 'DECISION'],\n",
              "      dtype='object')"
            ]
          },
          "metadata": {}
        }
      ]
    },
    {
      "cell_type": "code",
      "source": "#compliance for npk fertilizers\nnpk=comp[comp['Commodity']=='NPK']",
      "metadata": {},
      "execution_count": 13,
      "outputs": []
    },
    {
      "cell_type": "code",
      "source": "npk.head()",
      "metadata": {},
      "execution_count": 15,
      "outputs": [
        {
          "execution_count": 15,
          "output_type": "execute_result",
          "data": {
            "text/html": [
              "<div>\n",
              "<style scoped>\n",
              "    .dataframe tbody tr th:only-of-type {\n",
              "        vertical-align: middle;\n",
              "    }\n",
              "\n",
              "    .dataframe tbody tr th {\n",
              "        vertical-align: top;\n",
              "    }\n",
              "\n",
              "    .dataframe thead th {\n",
              "        text-align: right;\n",
              "    }\n",
              "</style>\n",
              "<table border=\"1\" class=\"dataframe\">\n",
              "  <thead>\n",
              "    <tr style=\"text-align: right;\">\n",
              "      <th></th>\n",
              "      <th>LAB CODE</th>\n",
              "      <th>year</th>\n",
              "      <th>Date Received</th>\n",
              "      <th>CLIENT ID</th>\n",
              "      <th>Commodity</th>\n",
              "      <th>REQUIREMENT</th>\n",
              "      <th>SOURCE</th>\n",
              "      <th>REGION</th>\n",
              "      <th>COUNTY</th>\n",
              "      <th>Total Of PARAMETER</th>\n",
              "      <th>CONFORMS</th>\n",
              "      <th>DOES NOT CONFORMS</th>\n",
              "      <th>Comliance</th>\n",
              "    </tr>\n",
              "  </thead>\n",
              "  <tbody>\n",
              "    <tr>\n",
              "      <th>0</th>\n",
              "      <td>QF200013</td>\n",
              "      <td>2020</td>\n",
              "      <td>2020-02-10</td>\n",
              "      <td>Licon Agrovet</td>\n",
              "      <td>NPK</td>\n",
              "      <td>Others</td>\n",
              "      <td>NFMP</td>\n",
              "      <td>KISUMU,SIAYA AND BUSIA</td>\n",
              "      <td>BUSIA</td>\n",
              "      <td>3</td>\n",
              "      <td>3.0</td>\n",
              "      <td>NaN</td>\n",
              "      <td>compliant</td>\n",
              "    </tr>\n",
              "    <tr>\n",
              "      <th>1</th>\n",
              "      <td>QF200014</td>\n",
              "      <td>2020</td>\n",
              "      <td>2020-02-10</td>\n",
              "      <td>Licon Agrovet</td>\n",
              "      <td>NPK</td>\n",
              "      <td>Others</td>\n",
              "      <td>NFMP</td>\n",
              "      <td>KISUMU,SIAYA AND BUSIA</td>\n",
              "      <td>BUSIA</td>\n",
              "      <td>3</td>\n",
              "      <td>3.0</td>\n",
              "      <td>NaN</td>\n",
              "      <td>compliant</td>\n",
              "    </tr>\n",
              "    <tr>\n",
              "      <th>2</th>\n",
              "      <td>QF200015</td>\n",
              "      <td>2020</td>\n",
              "      <td>2020-02-10</td>\n",
              "      <td>Licon Agrovet</td>\n",
              "      <td>NPK</td>\n",
              "      <td>Others</td>\n",
              "      <td>NFMP</td>\n",
              "      <td>KISUMU,SIAYA AND BUSIA</td>\n",
              "      <td>KISUMU</td>\n",
              "      <td>3</td>\n",
              "      <td>3.0</td>\n",
              "      <td>NaN</td>\n",
              "      <td>compliant</td>\n",
              "    </tr>\n",
              "    <tr>\n",
              "      <th>3</th>\n",
              "      <td>QF200016</td>\n",
              "      <td>2020</td>\n",
              "      <td>2020-02-10</td>\n",
              "      <td>Licon Agrovet</td>\n",
              "      <td>NPK</td>\n",
              "      <td>27</td>\n",
              "      <td>NFMP</td>\n",
              "      <td>KISUMU,SIAYA AND BUSIA</td>\n",
              "      <td>KISUMU</td>\n",
              "      <td>1</td>\n",
              "      <td>NaN</td>\n",
              "      <td>1.0</td>\n",
              "      <td>non-compliant</td>\n",
              "    </tr>\n",
              "    <tr>\n",
              "      <th>4</th>\n",
              "      <td>QF200017</td>\n",
              "      <td>2020</td>\n",
              "      <td>2020-02-10</td>\n",
              "      <td>Avepo Agrovet</td>\n",
              "      <td>NPK</td>\n",
              "      <td>27</td>\n",
              "      <td>NFMP</td>\n",
              "      <td>KISUMU,SIAYA AND BUSIA</td>\n",
              "      <td>SIAYA</td>\n",
              "      <td>1</td>\n",
              "      <td>1.0</td>\n",
              "      <td>NaN</td>\n",
              "      <td>compliant</td>\n",
              "    </tr>\n",
              "  </tbody>\n",
              "</table>\n",
              "</div>"
            ],
            "text/plain": [
              "   LAB CODE  year Date Received      CLIENT ID Commodity REQUIREMENT SOURCE  \\\n",
              "0  QF200013  2020    2020-02-10  Licon Agrovet       NPK      Others   NFMP   \n",
              "1  QF200014  2020    2020-02-10  Licon Agrovet       NPK      Others   NFMP   \n",
              "2  QF200015  2020    2020-02-10  Licon Agrovet       NPK      Others   NFMP   \n",
              "3  QF200016  2020    2020-02-10  Licon Agrovet       NPK          27   NFMP   \n",
              "4  QF200017  2020    2020-02-10  Avepo Agrovet       NPK          27   NFMP   \n",
              "\n",
              "                   REGION  COUNTY  Total Of PARAMETER  CONFORMS  \\\n",
              "0  KISUMU,SIAYA AND BUSIA   BUSIA                   3       3.0   \n",
              "1  KISUMU,SIAYA AND BUSIA   BUSIA                   3       3.0   \n",
              "2  KISUMU,SIAYA AND BUSIA  KISUMU                   3       3.0   \n",
              "3  KISUMU,SIAYA AND BUSIA  KISUMU                   1       NaN   \n",
              "4  KISUMU,SIAYA AND BUSIA   SIAYA                   1       1.0   \n",
              "\n",
              "   DOES NOT CONFORMS      Comliance  \n",
              "0                NaN      compliant  \n",
              "1                NaN      compliant  \n",
              "2                NaN      compliant  \n",
              "3                1.0  non-compliant  \n",
              "4                NaN      compliant  "
            ]
          },
          "metadata": {}
        }
      ]
    },
    {
      "cell_type": "code",
      "source": "pd.crosstab(fert['LAB CODE'],fert['REGION']).count()",
      "metadata": {},
      "execution_count": 15,
      "outputs": [
        {
          "execution_count": 15,
          "output_type": "execute_result",
          "data": {
            "text/plain": [
              "REGION\n",
              "BUSIA,KISUMU AND SIAYA COUNTIES                          528\n",
              "CENTRAL KENYA                                            528\n",
              "EMBU,MERU AND THARAKA NITHI COUNTIES                     528\n",
              "HOMA BAY,KISII,MIGORI AND NYAMIRA COUNTIES               528\n",
              "HOMA BAY,MIGORI,NYAMIRA AND KISII                        528\n",
              "HOMA BAY,MIGORI,NYAMIRA AND KISII COUNTIES               528\n",
              "KAJIADO,NAIROBI AND KIAMBU COUNTIES                      528\n",
              "KAJIADO,TAITA TAVETA REGION                              528\n",
              "KISUMU,SIAYA AND BUSIA                                   528\n",
              "KISUMU,SIAYA AND BUSIA COUNTIES                          528\n",
              "LAIKIPIA, BARINGO AND NAKURU                             528\n",
              "LAIKIPIA, BARINGO AND NAKURU COUNTIES                    528\n",
              "LOWER EASTERN                                            528\n",
              "MERU,THARAKA NITHI AND EMBU                              528\n",
              "MERU,THARAKA NITHI AND EMBU COUNTIES                     528\n",
              "MOMBASA,LAMU,KILIFI AND KWALE                            528\n",
              "MOMBASA,LAMU,KILIFI AND KWALE COUNTIES                   528\n",
              "NAROK,BOMET AND KERICHO COUNTIES                         528\n",
              "SOUTH RIFT                                               528\n",
              "TAITA TAVETA and KAJIADO                                 528\n",
              "UASIN GISHU,TRANS ZOIA,WEST POKOT AND ELGEYO MARAKWET    528\n",
              "VIHIGA,KAKAMEGA AND BUNGOMA                              528\n",
              "VIHIGA,KAKAMEGA AND BUNGOMA COUNTIES                     528\n",
              "dtype: int64"
            ]
          },
          "metadata": {}
        }
      ]
    },
    {
      "cell_type": "code",
      "source": "dframe",
      "metadata": {},
      "execution_count": 13,
      "outputs": [
        {
          "execution_count": 13,
          "output_type": "execute_result",
          "data": {
            "text/html": [
              "<div>\n",
              "<style scoped>\n",
              "    .dataframe tbody tr th:only-of-type {\n",
              "        vertical-align: middle;\n",
              "    }\n",
              "\n",
              "    .dataframe tbody tr th {\n",
              "        vertical-align: top;\n",
              "    }\n",
              "\n",
              "    .dataframe thead th {\n",
              "        text-align: right;\n",
              "    }\n",
              "</style>\n",
              "<table border=\"1\" class=\"dataframe\">\n",
              "  <thead>\n",
              "    <tr style=\"text-align: right;\">\n",
              "      <th></th>\n",
              "      <th>LAB CODE</th>\n",
              "      <th>Date Received</th>\n",
              "      <th>CLIENT ID</th>\n",
              "      <th>Commodity</th>\n",
              "      <th>REQUIREMENT</th>\n",
              "      <th>SOURCE</th>\n",
              "      <th>COUNTY</th>\n",
              "      <th>LOCATION</th>\n",
              "      <th>compliance/Non-compliant</th>\n",
              "    </tr>\n",
              "  </thead>\n",
              "  <tbody>\n",
              "    <tr>\n",
              "      <th>0</th>\n",
              "      <td>QF190562</td>\n",
              "      <td>2019-09-10</td>\n",
              "      <td>Tulin grovet(Kachibora)</td>\n",
              "      <td>DAP</td>\n",
              "      <td>18:46:00</td>\n",
              "      <td>NFMP</td>\n",
              "      <td>TRANS NZOIA</td>\n",
              "      <td>Kachibora</td>\n",
              "      <td>Compliant</td>\n",
              "    </tr>\n",
              "    <tr>\n",
              "      <th>1</th>\n",
              "      <td>QF190563</td>\n",
              "      <td>2019-09-10</td>\n",
              "      <td>Hossana Agrovet(Matunda)</td>\n",
              "      <td>DAP</td>\n",
              "      <td>18:46:00</td>\n",
              "      <td>NFMP</td>\n",
              "      <td>UASIN GISHU</td>\n",
              "      <td>Matunda</td>\n",
              "      <td>Compliant</td>\n",
              "    </tr>\n",
              "    <tr>\n",
              "      <th>2</th>\n",
              "      <td>QF190564</td>\n",
              "      <td>2019-09-10</td>\n",
              "      <td>Kaikai Enterprisez(Surgoi)</td>\n",
              "      <td>DAP</td>\n",
              "      <td>18:46:00</td>\n",
              "      <td>NFMP</td>\n",
              "      <td>UASIN GISHU</td>\n",
              "      <td>Surgoi</td>\n",
              "      <td>Compliant</td>\n",
              "    </tr>\n",
              "    <tr>\n",
              "      <th>3</th>\n",
              "      <td>QF190565</td>\n",
              "      <td>2019-09-10</td>\n",
              "      <td>Chemur Agrovet(Ortum)</td>\n",
              "      <td>DAP</td>\n",
              "      <td>18:46:00</td>\n",
              "      <td>NFMP</td>\n",
              "      <td>WEST POKOT</td>\n",
              "      <td>Ortum</td>\n",
              "      <td>Compliant</td>\n",
              "    </tr>\n",
              "    <tr>\n",
              "      <th>4</th>\n",
              "      <td>QF190566</td>\n",
              "      <td>2019-09-10</td>\n",
              "      <td>Kipkorgot(kany-tany Agrovet)</td>\n",
              "      <td>DAP</td>\n",
              "      <td>18:46:00</td>\n",
              "      <td>NFMP</td>\n",
              "      <td>UASIN GISHU</td>\n",
              "      <td>Kipkorgot</td>\n",
              "      <td>Compliant</td>\n",
              "    </tr>\n",
              "    <tr>\n",
              "      <th>5</th>\n",
              "      <td>QF190567</td>\n",
              "      <td>2019-09-10</td>\n",
              "      <td>Moi's Bridge(Super Wakulima)</td>\n",
              "      <td>DAP</td>\n",
              "      <td>18:46:00</td>\n",
              "      <td>NFMP</td>\n",
              "      <td>TRANS NZOIA</td>\n",
              "      <td>Moi's Bridge</td>\n",
              "      <td>Non-Compliant</td>\n",
              "    </tr>\n",
              "    <tr>\n",
              "      <th>6</th>\n",
              "      <td>QF190568</td>\n",
              "      <td>2019-09-10</td>\n",
              "      <td>Oasis Farmers(Iten)</td>\n",
              "      <td>DAP</td>\n",
              "      <td>18:46:00</td>\n",
              "      <td>NFMP</td>\n",
              "      <td>ELGEYO MARAKWET</td>\n",
              "      <td>Iten</td>\n",
              "      <td>Compliant</td>\n",
              "    </tr>\n",
              "    <tr>\n",
              "      <th>7</th>\n",
              "      <td>QF190569</td>\n",
              "      <td>2019-09-10</td>\n",
              "      <td>Kimilili Veterinary(Soy)</td>\n",
              "      <td>DAP</td>\n",
              "      <td>18:46:00</td>\n",
              "      <td>NFMP</td>\n",
              "      <td>UASIN GISHU</td>\n",
              "      <td>Soy</td>\n",
              "      <td>Non-Compliant</td>\n",
              "    </tr>\n",
              "    <tr>\n",
              "      <th>8</th>\n",
              "      <td>QF190570</td>\n",
              "      <td>2019-09-10</td>\n",
              "      <td>Hossana Agrovet(Matunda)</td>\n",
              "      <td>CAN</td>\n",
              "      <td>0.26</td>\n",
              "      <td>NFMP</td>\n",
              "      <td>UASIN GISHU</td>\n",
              "      <td>Matunda</td>\n",
              "      <td>Compliant</td>\n",
              "    </tr>\n",
              "    <tr>\n",
              "      <th>9</th>\n",
              "      <td>QF190571</td>\n",
              "      <td>2019-09-10</td>\n",
              "      <td>Kaikai Enterprisez(Surgoi)</td>\n",
              "      <td>CAN</td>\n",
              "      <td>0.26</td>\n",
              "      <td>NFMP</td>\n",
              "      <td>UASIN GISHU</td>\n",
              "      <td>Surgoi</td>\n",
              "      <td>Compliant</td>\n",
              "    </tr>\n",
              "    <tr>\n",
              "      <th>10</th>\n",
              "      <td>QF190572</td>\n",
              "      <td>2019-09-10</td>\n",
              "      <td>Chemur Agrovet(Ortum)</td>\n",
              "      <td>CAN</td>\n",
              "      <td>0.26</td>\n",
              "      <td>NFMP</td>\n",
              "      <td>WEST POKOT</td>\n",
              "      <td>Ortum</td>\n",
              "      <td>Non-Compliant</td>\n",
              "    </tr>\n",
              "    <tr>\n",
              "      <th>11</th>\n",
              "      <td>QF190573</td>\n",
              "      <td>2019-09-10</td>\n",
              "      <td>Kimilili Veterinary(Soy)</td>\n",
              "      <td>CAN</td>\n",
              "      <td>0.26</td>\n",
              "      <td>NFMP</td>\n",
              "      <td>UASIN GISHU</td>\n",
              "      <td>Soy</td>\n",
              "      <td>Non-Compliant</td>\n",
              "    </tr>\n",
              "    <tr>\n",
              "      <th>12</th>\n",
              "      <td>QF190574</td>\n",
              "      <td>2019-09-10</td>\n",
              "      <td>Rany-Tany Agrovet(Kipkorgot)</td>\n",
              "      <td>CAN</td>\n",
              "      <td>0.26</td>\n",
              "      <td>NFMP</td>\n",
              "      <td>UASIN GISHU</td>\n",
              "      <td>Kipkorgot</td>\n",
              "      <td>Non-Compliant</td>\n",
              "    </tr>\n",
              "    <tr>\n",
              "      <th>13</th>\n",
              "      <td>QF190575</td>\n",
              "      <td>2019-09-10</td>\n",
              "      <td>Oasis Farmers(Iten)</td>\n",
              "      <td>NPK</td>\n",
              "      <td>14:28:14</td>\n",
              "      <td>NFMP</td>\n",
              "      <td>ELGEYO MARAKWET</td>\n",
              "      <td>Iten</td>\n",
              "      <td>Non-Compliant</td>\n",
              "    </tr>\n",
              "    <tr>\n",
              "      <th>14</th>\n",
              "      <td>QF190576</td>\n",
              "      <td>2019-09-10</td>\n",
              "      <td>Super Wakulima(Moi's Bridge)</td>\n",
              "      <td>NPK</td>\n",
              "      <td>15:09:20</td>\n",
              "      <td>NFMP</td>\n",
              "      <td>TRANS NZOIA</td>\n",
              "      <td>Moi's Bridge</td>\n",
              "      <td>Non-Compliant</td>\n",
              "    </tr>\n",
              "  </tbody>\n",
              "</table>\n",
              "</div>"
            ],
            "text/plain": [
              "    LAB CODE Date Received                     CLIENT ID Commodity  \\\n",
              "0   QF190562    2019-09-10       Tulin grovet(Kachibora)       DAP   \n",
              "1   QF190563    2019-09-10      Hossana Agrovet(Matunda)       DAP   \n",
              "2   QF190564    2019-09-10    Kaikai Enterprisez(Surgoi)       DAP   \n",
              "3   QF190565    2019-09-10         Chemur Agrovet(Ortum)       DAP   \n",
              "4   QF190566    2019-09-10  Kipkorgot(kany-tany Agrovet)       DAP   \n",
              "5   QF190567    2019-09-10  Moi's Bridge(Super Wakulima)       DAP   \n",
              "6   QF190568    2019-09-10           Oasis Farmers(Iten)       DAP   \n",
              "7   QF190569    2019-09-10      Kimilili Veterinary(Soy)       DAP   \n",
              "8   QF190570    2019-09-10      Hossana Agrovet(Matunda)       CAN   \n",
              "9   QF190571    2019-09-10    Kaikai Enterprisez(Surgoi)       CAN   \n",
              "10  QF190572    2019-09-10         Chemur Agrovet(Ortum)       CAN   \n",
              "11  QF190573    2019-09-10      Kimilili Veterinary(Soy)       CAN   \n",
              "12  QF190574    2019-09-10  Rany-Tany Agrovet(Kipkorgot)       CAN   \n",
              "13  QF190575    2019-09-10           Oasis Farmers(Iten)       NPK   \n",
              "14  QF190576    2019-09-10  Super Wakulima(Moi's Bridge)       NPK   \n",
              "\n",
              "   REQUIREMENT SOURCE           COUNTY      LOCATION compliance/Non-compliant  \n",
              "0     18:46:00   NFMP      TRANS NZOIA     Kachibora                Compliant  \n",
              "1     18:46:00   NFMP      UASIN GISHU       Matunda                Compliant  \n",
              "2     18:46:00   NFMP      UASIN GISHU        Surgoi                Compliant  \n",
              "3     18:46:00   NFMP       WEST POKOT         Ortum                Compliant  \n",
              "4     18:46:00   NFMP      UASIN GISHU     Kipkorgot                Compliant  \n",
              "5     18:46:00   NFMP      TRANS NZOIA  Moi's Bridge            Non-Compliant  \n",
              "6     18:46:00   NFMP  ELGEYO MARAKWET          Iten                Compliant  \n",
              "7     18:46:00   NFMP      UASIN GISHU           Soy            Non-Compliant  \n",
              "8         0.26   NFMP      UASIN GISHU       Matunda                Compliant  \n",
              "9         0.26   NFMP      UASIN GISHU        Surgoi                Compliant  \n",
              "10        0.26   NFMP       WEST POKOT         Ortum            Non-Compliant  \n",
              "11        0.26   NFMP      UASIN GISHU           Soy            Non-Compliant  \n",
              "12        0.26   NFMP      UASIN GISHU     Kipkorgot            Non-Compliant  \n",
              "13    14:28:14   NFMP  ELGEYO MARAKWET          Iten            Non-Compliant  \n",
              "14    15:09:20   NFMP      TRANS NZOIA  Moi's Bridge            Non-Compliant  "
            ]
          },
          "metadata": {}
        }
      ]
    },
    {
      "cell_type": "code",
      "source": "sns.catplot(x='Commodity', hue='compliance/Non-compliant',data=dframe, kind='count', palette=('coolwarm'),)",
      "metadata": {},
      "execution_count": 16,
      "outputs": [
        {
          "execution_count": 16,
          "output_type": "execute_result",
          "data": {
            "text/plain": [
              "<seaborn.axisgrid.FacetGrid at 0x171fe2edb48>"
            ]
          },
          "metadata": {}
        },
        {
          "output_type": "display_data",
          "data": {
            "image/png": "[encoded data removed]",
            "text/plain": [
              "<Figure size 486.5x360 with 1 Axes>"
            ]
          },
          "metadata": {
            "needs_background": "light"
          }
        }
      ]
    },
    {
      "cell_type": "code",
      "source": "sns.catplot(x='Fertilizer Blend', hue='COMPLIANCE',data=dframe, kind='count', palette=('coolwarm'),)",
      "metadata": {},
      "execution_count": 13,
      "outputs": [
        {
          "execution_count": 13,
          "output_type": "execute_result",
          "data": {
            "text/plain": [
              "<seaborn.axisgrid.FacetGrid at 0x246ddf112c8>"
            ]
          },
          "metadata": {}
        },
        {
          "output_type": "display_data",
          "data": {
            "image/png": "[encoded data removed]",
            "text/plain": [
              "<Figure size 479.625x360 with 1 Axes>"
            ]
          },
          "metadata": {
            "needs_background": "light"
          }
        }
      ]
    },
    {
      "cell_type": "code",
      "source": "sns.catplot(x='COUNTY', hue='compliance/Non-compliant',data=dframe, kind='count', palette=('coolwarm'),)",
      "metadata": {},
      "execution_count": 17,
      "outputs": [
        {
          "execution_count": 17,
          "output_type": "execute_result",
          "data": {
            "text/plain": [
              "<seaborn.axisgrid.FacetGrid at 0x171fe615a88>"
            ]
          },
          "metadata": {}
        },
        {
          "output_type": "display_data",
          "data": {
            "image/png": "[encoded data removed]",
            "text/plain": [
              "<Figure size 486.5x360 with 1 Axes>"
            ]
          },
          "metadata": {
            "needs_background": "light"
          }
        }
      ]
    },
    {
      "cell_type": "code",
      "source": "sns.catplot(y='COUNTY', hue='COMPLIANCE',data=dframe, kind='count', palette=('coolwarm'),)",
      "metadata": {},
      "execution_count": 20,
      "outputs": [
        {
          "execution_count": 20,
          "output_type": "execute_result",
          "data": {
            "text/plain": [
              "<seaborn.axisgrid.FacetGrid at 0x246de2c4f88>"
            ]
          },
          "metadata": {}
        },
        {
          "output_type": "display_data",
          "data": {
            "image/png": "[encoded data removed]",
            "text/plain": [
              "<Figure size 479.625x360 with 1 Axes>"
            ]
          },
          "metadata": {
            "needs_background": "light"
          }
        }
      ]
    },
    {
      "cell_type": "code",
      "source": "",
      "metadata": {},
      "execution_count": null,
      "outputs": []
    }
  ]
}